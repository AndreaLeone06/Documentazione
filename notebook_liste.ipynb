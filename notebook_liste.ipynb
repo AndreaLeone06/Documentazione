{
  "nbformat": 4,
  "nbformat_minor": 0,
  "metadata": {
    "colab": {
      "provenance": [],
      "authorship_tag": "ABX9TyPDOseynJAVecPcRz0P4EkI",
      "include_colab_link": true
    },
    "kernelspec": {
      "name": "python3",
      "display_name": "Python 3"
    },
    "language_info": {
      "name": "python"
    }
  },
  "cells": [
    {
      "cell_type": "markdown",
      "metadata": {
        "id": "view-in-github",
        "colab_type": "text"
      },
      "source": [
        "<a href=\"https://colab.research.google.com/github/AndreaLeone06/Documentazione/blob/main/notebook_liste.ipynb\" target=\"_parent\"><img src=\"https://colab.research.google.com/assets/colab-badge.svg\" alt=\"Open In Colab\"/></a>"
      ]
    },
    {
      "cell_type": "code",
      "execution_count": null,
      "metadata": {
        "id": "4EmgiLWvCLPA"
      },
      "outputs": [],
      "source": [
        "lista =[8,18,27,-8,51,40,-9,-76]\n",
        "lista.extend([7,4,95])\n",
        "lista2 = [7,4,95]\n",
        "len(lista)\n",
        "lista= lista2 + lista\n",
        "lista.insert(3,100)\n",
        "del lista[12]\n",
        "print(\"min =\",min(lista),\"  max =\",max(lista))\n",
        "print(\"total =\",sum(lista))\n",
        "print(\"media=\",sum(lista) / len(lista))\n",
        "lista.remove(7)\n",
        "lista.sort(), lista.reverse()\n",
        "lista.remove(min(lista)), lista.remove(max(lista))\n",
        "print(lista[:20:2])\n",
        "print(lista[1::2])\n",
        "print(lista[0:5])\n",
        "print(lista[-5:])\n",
        "print(lista)\n"
      ]
    },
    {
      "cell_type": "code",
      "source": [],
      "metadata": {
        "id": "HH1t2_81Bwiz"
      },
      "execution_count": null,
      "outputs": []
    },
    {
      "cell_type": "markdown",
      "source": [
        "questo notebook contiene informazioni fondamentali per lavorare sulle liste"
      ],
      "metadata": {
        "id": "RtLvYvgKDIh9"
      }
    },
    {
      "cell_type": "markdown",
      "source": [
        "Definizione di lista:\n",
        "Una struttura di dati dinamica utilizzata per memorizzare dati in modo non permanente (salvataggio della RAM).\n",
        "Dinamica significa che la dimensione della lista non deve essere fissata a priori, prima dell'uso.\n",
        "Non permanente significa che i dati memorizzati nella lista vengono cancellati quando si chiude il notebook."
      ],
      "metadata": {
        "id": "9SQTbzIsDVp-"
      }
    },
    {
      "cell_type": "markdown",
      "source": [
        "1. inizializzazione di una lista\n",
        "1. inserimento di elementi\n",
        "1. visualizzazione di una lista\n",
        "1. rimozione di elementi di una lista\n",
        "1. aggiunta di un elemento di una lista\n",
        "1. visualizzazione di un elemento di uno o più elementi \n",
        "1. trovare minimo e massimo di una lista\n",
        "1. effettuare operazioni su elementi di una lista\n",
        "1. ordinare gli elementi di una lista in ordine decrescente o crescente"
      ],
      "metadata": {
        "id": "25Q9eod9E32d"
      }
    },
    {
      "cell_type": "markdown",
      "source": [
        "inizializzazione di una lista"
      ],
      "metadata": {
        "id": "-U_S50PEOTZt"
      }
    },
    {
      "cell_type": "code",
      "source": [
        "lista = [1,2,3,4,5,6]\n"
      ],
      "metadata": {
        "id": "DzAZiKzdExK0"
      },
      "execution_count": 13,
      "outputs": []
    },
    {
      "cell_type": "markdown",
      "source": [
        "inserimento di elementi"
      ],
      "metadata": {
        "id": "4g3NzjXtOT56"
      }
    },
    {
      "cell_type": "code",
      "source": [
        "lista.append(10) #aggiunge un elemento alla fine di una lista\n",
        "lista.extend([11,12,13]) #aggiunge 3 elementi in fondo alla lista\n",
        "lista.insert(5,20) #inserisce il secondo numero alla posizione del primo"
      ],
      "metadata": {
        "id": "HiM95_cSGRFU"
      },
      "execution_count": 14,
      "outputs": []
    },
    {
      "cell_type": "markdown",
      "source": [
        "visualizzazione di una lista"
      ],
      "metadata": {
        "id": "5JxU5gw4OURj"
      }
    },
    {
      "cell_type": "code",
      "source": [
        "print(lista)"
      ],
      "metadata": {
        "id": "xX1uamf2HLtK"
      },
      "execution_count": null,
      "outputs": []
    },
    {
      "cell_type": "markdown",
      "source": [
        "rimozione di elementi di una lista"
      ],
      "metadata": {
        "id": "cGFionnjOUoL"
      }
    },
    {
      "cell_type": "code",
      "source": [
        "lista.remove(10) #rimuove la prima occorrenza (istanza) del numero 10\n",
        "lista.pop(10) #rimuove l'elemento in posizione 10\n",
        "del lista[10] "
      ],
      "metadata": {
        "id": "53kGG-NzHfmQ"
      },
      "execution_count": 19,
      "outputs": []
    },
    {
      "cell_type": "markdown",
      "source": [
        "aggiunta di un elemento di una lista"
      ],
      "metadata": {
        "id": "5JO0tsWEOU_y"
      }
    },
    {
      "cell_type": "code",
      "source": [
        "lista.append(10) #aggiunge un elemento alla fine di una lista\n",
        "lista.extend([11,12,13]) #aggiunge 3 elementi in fondo alla lista\n",
        "lista.insert(5,20) #inserisce il secondo numero alla posizione del primo"
      ],
      "metadata": {
        "id": "XDx6UnFYIrFb"
      },
      "execution_count": 20,
      "outputs": []
    },
    {
      "cell_type": "markdown",
      "source": [
        "visualizzazione di un elemento di uno o più elementi"
      ],
      "metadata": {
        "id": "NvVbDNtvOVRS"
      }
    },
    {
      "cell_type": "code",
      "source": [
        "print(lista[4]) #visualizza il quinto elemento, in quarta posizione\n",
        "print(lista[4:8]) #visualizza gli elementi dalla posizione 4 fino alla posizione 7\n",
        "print(lista[4:8:2]) #visualizza gli elementi 2 a 2\n",
        "print(lista[4:]) #visualizza gli elementi dai 4 fino alla fine\n",
        "print(lista[:4]) #visualizza gli elementi fino alla posizione 3\n",
        "print(lista[::4]) #prende tutti i numeri a 4 a 4\n",
        "print(lista[-1]) #visualizza l'ultimo elemento"
      ],
      "metadata": {
        "id": "8_BbSzkrJOmb"
      },
      "execution_count": null,
      "outputs": []
    },
    {
      "cell_type": "markdown",
      "source": [
        "trovare minimo e massimo di una lista"
      ],
      "metadata": {
        "id": "8ZDUdUHgOVpy"
      }
    },
    {
      "cell_type": "code",
      "source": [
        "print(min(lista))\n",
        "print(max(lista))"
      ],
      "metadata": {
        "id": "PHK6Ar_GLAs7"
      },
      "execution_count": null,
      "outputs": []
    },
    {
      "cell_type": "markdown",
      "source": [
        "effettuare operazioni su elementi di una lista"
      ],
      "metadata": {
        "id": "vT5vnbRJOV76"
      }
    },
    {
      "cell_type": "code",
      "source": [
        "print(sum(lista)) #calcola la somme degli elementi di una lista\n",
        "from statistics import mean\n",
        "print(mean(lista)) #calcola la madia degli elementi di una lista\n",
        "len(lista) #conta quanti elementi ha la lista"
      ],
      "metadata": {
        "id": "iKVFWvESLVL7"
      },
      "execution_count": null,
      "outputs": []
    },
    {
      "cell_type": "markdown",
      "source": [
        "ordinare gli elementi di una lista in ordine decrescente o crescente"
      ],
      "metadata": {
        "id": "QGu9hd5AOWTL"
      }
    },
    {
      "cell_type": "code",
      "source": [
        "lista.sort() #ordina gli elementi di una lista in ordine crescente\n",
        "lista.sort(reverse=True) #ordina gli elementi della lista in ordine decrescente\n",
        "print(lista)"
      ],
      "metadata": {
        "id": "nQ57Zwm2M3Vz"
      },
      "execution_count": null,
      "outputs": []
    },
    {
      "cell_type": "markdown",
      "source": [
        "controllo delle presenza di un elemento nella lista"
      ],
      "metadata": {
        "id": "yfXPdXdbOWtE"
      }
    },
    {
      "cell_type": "code",
      "source": [
        "9 in lista #restituisce true se 9 è presente nella lista, altrimenti false"
      ],
      "metadata": {
        "id": "4oTP7C4JOE1D"
      },
      "execution_count": null,
      "outputs": []
    }
  ]
}