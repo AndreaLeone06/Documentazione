{
  "nbformat": 4,
  "nbformat_minor": 0,
  "metadata": {
    "colab": {
      "provenance": [],
      "collapsed_sections": [],
      "include_colab_link": true
    },
    "kernelspec": {
      "name": "python3",
      "display_name": "Python 3"
    },
    "language_info": {
      "name": "python"
    }
  },
  "cells": [
    {
      "cell_type": "markdown",
      "metadata": {
        "id": "view-in-github",
        "colab_type": "text"
      },
      "source": [
        "<a href=\"https://colab.research.google.com/github/AndreaLeone06/Documentazione/blob/main/LEONE_ANDREA_Esercizi_in_preprazione_alla_verifica_dizionari/insiemi.ipynb\" target=\"_parent\"><img src=\"https://colab.research.google.com/assets/colab-badge.svg\" alt=\"Open In Colab\"/></a>"
      ]
    },
    {
      "cell_type": "markdown",
      "source": [
        "Prendere in considerazione l'elenco degli studenti della 3E: Avasiloae, Bernasconi, Cottone, D'Arienzo, Dipace, El Allami, Finessi, Fontana, Geremicca, Leone, Lotorto, Milella, Muhammad, Neri, Papes e Poliseno. Qui di seguito ci sono gli studenti che sono stati interrogati in Sistemi: Finessi, Fontana, Geremicca, Neri, Papes. Questi sono invece gli studenti che sono stati interrogati in Tecnologie: Cottone, D'Arienzo, Dipace, El Allami, Finessi, Fontana. Infine, questi sono gli studenti che sono stati interrogati in Informatica: Cottone, Fontana, Papes, Poliseno.\n",
        "\n",
        "Memorizzare queste informazioni in opportune strutture dati \n"
      ],
      "metadata": {
        "id": "CIoz-LH_JcaS"
      }
    },
    {
      "cell_type": "code",
      "source": [
        "studenti={\"Avasiloae\", \"Bernasconi\", \"Cottone\", \"D'Arienzo\", \"Dipace\", \"El Allami\", \"Finessi\", \"Fontana\", \"Geremicca\", \"Leone\", \"Lotorto\", \"Milella\", \"Muhammad\", \"Neri\", \"Papes\", \"Poliseno\"}\n",
        "studentiSistemi={\"Finessi\", \"Fontana\", \"Geremicca\", \"Neri\", \"Papes\"}\n",
        "studentiTecnologie={\"Cottone\", \"D'Arienzo\", \"Dipace\", \"El Allami\", \"Finessi\", \"Fontana\"}\n",
        "studentiInformatica={\"Cottone\", \"Fontana\", \"Papes\", \"Poliseno\"}"
      ],
      "metadata": {
        "id": "FcA6ciGINCNR"
      },
      "execution_count": 3,
      "outputs": []
    },
    {
      "cell_type": "markdown",
      "source": [
        "Scrivere le istruzioni per avere le seguenti informazioni:\n",
        "\n",
        "1. Quali sono gli studenti che sono stati interrogati in almeno una materia?"
      ],
      "metadata": {
        "id": "swXPUzm6ND89"
      }
    },
    {
      "cell_type": "code",
      "source": [
        "print(studentiSistemi.union(studentiTecnologie,studentiInformatica))"
      ],
      "metadata": {
        "id": "lPoeA6WCNQUb"
      },
      "execution_count": null,
      "outputs": []
    },
    {
      "cell_type": "markdown",
      "source": [
        "2. Quali sono gli studenti che sono stati interrogati in tutte e tre le materie?"
      ],
      "metadata": {
        "id": "hnB69eRMNQub"
      }
    },
    {
      "cell_type": "code",
      "source": [
        "print(studenti.intersection(studentiSistemi,studentiTecnologie,studentiInformatica))"
      ],
      "metadata": {
        "id": "CHJF5HwxNRvN"
      },
      "execution_count": null,
      "outputs": []
    },
    {
      "cell_type": "markdown",
      "source": [
        "3. Quali sono gli studenti che devono ancora essere interrogati in Informatica?"
      ],
      "metadata": {
        "id": "MJsxZy-tNSB0"
      }
    },
    {
      "cell_type": "code",
      "source": [
        "print(studenti.difference(studentiInformatica))"
      ],
      "metadata": {
        "id": "Hl4LOAH8NVf1"
      },
      "execution_count": null,
      "outputs": []
    },
    {
      "cell_type": "markdown",
      "source": [
        "4. Quali sono gli studenti che non sono stati interrogati in nessuna materia?"
      ],
      "metadata": {
        "id": "ZaUPieRlNV_c"
      }
    },
    {
      "cell_type": "code",
      "source": [
        "print(studenti.difference(studentiSistemi.union(studentiTecnologie,studentiInformatica)))"
      ],
      "metadata": {
        "id": "joYYsQtaNZwt"
      },
      "execution_count": null,
      "outputs": []
    },
    {
      "cell_type": "markdown",
      "source": [
        "5. Quali sono gli studenti che sono stati interrogati in Informatica ma non in Tecnologie?"
      ],
      "metadata": {
        "id": "9HyaVoK0NaET"
      }
    },
    {
      "cell_type": "code",
      "source": [
        "print(studentiInformatica.difference(studentiTecnologie))"
      ],
      "metadata": {
        "id": "PDVNMpQzNeUy"
      },
      "execution_count": null,
      "outputs": []
    },
    {
      "cell_type": "markdown",
      "source": [
        "6. Gli studenti che sono stati interrogati in Sistemi sono stati anche (tutti) interrogati in Tecnologie? (cercare su internet...)"
      ],
      "metadata": {
        "id": "jYC1u7qzNe2L"
      }
    },
    {
      "cell_type": "code",
      "source": [
        "studentiSistemi={\"Cottone\", \"D'Arienzo\", \"Dipace\"}\n",
        "studentiTecnologie={\"Cottone\", \"D'Arienzo\", \"Dipace\", \"El Allami\", \"Finessi\", \"Fontana\"}\n",
        "if studentiSistemi.issubset(studentiTecnologie):\n",
        "  print(\"si\")\n",
        "else:\n",
        "  print(\"no\")"
      ],
      "metadata": {
        "id": "TCK9UZ2RNkZ7"
      },
      "execution_count": null,
      "outputs": []
    },
    {
      "cell_type": "markdown",
      "source": [
        "Prendere in considerazione la seguente lista di dizionari, contenente una serie di clienti di un importante negozio di articoli per biciclette:\n",
        "\n"
      ],
      "metadata": {
        "id": "jNA3N49tNk6S"
      }
    },
    {
      "cell_type": "code",
      "source": [
        "clienti = [{'first_name': 'Debra',\n",
        "  'last_name': 'Burks',\n",
        "  'phone': None,\n",
        "  'email': 'debra.burks@yahoo.com',\n",
        "  'street': '9273 Thorne Ave. ',\n",
        "  'city': 'Orchard Park',\n",
        "  'state': 'NY',\n",
        "  'zip_code': '14127',\n",
        "  'total': 1900.00},\n",
        " {'first_name': 'Kasha',\n",
        "  'last_name': 'Todd',\n",
        "  'phone': None,\n",
        "  'email': 'kasha.todd@yahoo.com',\n",
        "  'street': '910 Vine Street ',\n",
        "  'city': 'Campbell',\n",
        "  'state': 'CA',\n",
        "  'zip_code': '95008',\n",
        "  'total': 900.00},\n",
        " {'first_name': 'Tameka',\n",
        "  'last_name': 'Fisher',\n",
        "  'phone': None,\n",
        "  'email': 'tameka.fisher@aol.com',\n",
        "  'street': '769C Honey Creek St. ',\n",
        "  'city': 'Redondo Beach',\n",
        "  'state': 'CA',\n",
        "  'zip_code': '90278',\n",
        "  'total': 90.00},\n",
        " {'first_name': 'Daryl',\n",
        "  'last_name': 'Spence',\n",
        "  'phone': None,\n",
        "  'email': 'daryl.spence@aol.com',\n",
        "  'street': '988 Pearl Lane ',\n",
        "  'city': 'Uniondale',\n",
        "  'state': 'NY',\n",
        "  'zip_code': '11553',\n",
        "  'total': 9030.00},\n",
        " {'first_name': 'Charolette',\n",
        "  'last_name': 'Rice',\n",
        "  'phone': '(916) 381-6003',\n",
        "  'email': 'charolette.rice@msn.com',\n",
        "  'street': '107 River Dr. ',\n",
        "  'city': 'Sacramento',\n",
        "  'state': 'CA',\n",
        "  'zip_code': '95820',\n",
        "  'total': 9008.00},\n",
        " {'first_name': 'Lyndsey',\n",
        "  'last_name': 'Bean',\n",
        "  'phone': None,\n",
        "  'email': 'lyndsey.bean@hotmail.com',\n",
        "  'street': '769 West Road ',\n",
        "  'city': 'Fairport',\n",
        "  'state': 'NY',\n",
        "  'zip_code': '14450',\n",
        "  'total': 2900.90},\n",
        " {'first_name': 'Latasha',\n",
        "  'last_name': 'Hays',\n",
        "  'phone': '(716) 986-3359',\n",
        "  'email': 'latasha.hays@hotmail.com',\n",
        "  'street': '7014 Manor Station Rd. ',\n",
        "  'city': 'Buffalo',\n",
        "  'state': 'NY',\n",
        "  'zip_code': '14215',\n",
        "  'total': 900.00},\n",
        " {'first_name': 'Jacquline',\n",
        "  'last_name': 'Duncan',\n",
        "  'phone': None,\n",
        "  'email': 'jacquline.duncan@yahoo.com',\n",
        "  'street': '15 Brown St. ',\n",
        "  'city': 'Jackson Heights',\n",
        "  'state': 'NY',\n",
        "  'zip_code': '11372',\n",
        "  'total': 900.00},\n",
        " {'first_name': 'Genoveva',\n",
        "  'last_name': 'Baldwin',\n",
        "  'phone': None,\n",
        "  'email': 'genoveva.baldwin@msn.com',\n",
        "  'street': '8550 Spruce Drive ',\n",
        "  'city': 'Port Washington',\n",
        "  'state': 'NY',\n",
        "  'zip_code': '11050',\n",
        "  'total': 9000.00},\n",
        " {'first_name': 'Pamelia',\n",
        "  'last_name': 'Newman',\n",
        "  'phone': None,\n",
        "  'email': 'pamelia.newman@gmail.com',\n",
        "  'street': '476 Chestnut Ave. ',\n",
        "  'city': 'Monroe',\n",
        "  'state': 'NY',\n",
        "  'zip_code': '10950',\n",
        "  'total': 90.90},\n",
        " {'first_name': 'Deshawn',\n",
        "  'last_name': 'Mendoza',\n",
        "  'phone': None,\n",
        "  'email': 'deshawn.mendoza@yahoo.com',\n",
        "  'street': '8790 Cobblestone Street ',\n",
        "  'city': 'Monsey',\n",
        "  'state': 'NY',\n",
        "  'zip_code': '10952',\n",
        "  'total': 90.00},\n",
        " {'first_name': 'Robby',\n",
        "  'last_name': 'Sykes',\n",
        "  'phone': '(516) 583-7761',\n",
        "  'email': 'robby.sykes@hotmail.com',\n",
        "  'street': '486 Rock Maple Street ',\n",
        "  'city': 'Hempstead',\n",
        "  'state': 'NY',\n",
        "  'zip_code': '11550',\n",
        "  'total': 100.00},\n",
        " {'first_name': 'Lashawn',\n",
        "  'last_name': 'Ortiz',\n",
        "  'phone': None,\n",
        "  'email': 'lashawn.ortiz@msn.com',\n",
        "  'street': '27 Washington Rd. ',\n",
        "  'city': 'Longview',\n",
        "  'state': 'TX',\n",
        "  'zip_code': '75604',\n",
        "  'total': 900.00},\n",
        " {'first_name': 'Garry',\n",
        "  'last_name': 'Espinoza',\n",
        "  'phone': None,\n",
        "  'email': 'garry.espinoza@hotmail.com',\n",
        "  'street': '7858 Rockaway Court ',\n",
        "  'city': 'Forney',\n",
        "  'state': 'TX',\n",
        "  'zip_code': '75126',\n",
        "  'total': 3900.00},\n",
        " {'first_name': 'Linnie',\n",
        "  'last_name': 'Branch',\n",
        "  'phone': None,\n",
        "  'email': 'linnie.branch@gmail.com',\n",
        "  'street': '314 South Columbia Ave. ',\n",
        "  'city': 'Plattsburgh',\n",
        "  'state': 'NY',\n",
        "  'zip_code': '12901',\n",
        "  'total': 90087.00},\n",
        " {'first_name': 'Emmitt',\n",
        "  'last_name': 'Sanchez',\n",
        "  'phone': '(212) 945-8823',\n",
        "  'email': 'emmitt.sanchez@hotmail.com',\n",
        "  'street': '461 Squaw Creek Road ',\n",
        "  'city': 'New York',\n",
        "  'state': 'NY',\n",
        "  'zip_code': '10002',\n",
        "  'total': 2900.00},\n",
        " {'first_name': 'Caren',\n",
        "  'last_name': 'Stephens',\n",
        "  'phone': None,\n",
        "  'email': 'caren.stephens@msn.com',\n",
        "  'street': '914 Brook St. ',\n",
        "  'city': 'Scarsdale',\n",
        "  'state': 'NY',\n",
        "  'zip_code': '10583',\n",
        "  'total': 900.00},\n",
        " {'first_name': 'Georgetta',\n",
        "  'last_name': 'Hardin',\n",
        "  'phone': None,\n",
        "  'email': 'georgetta.hardin@aol.com',\n",
        "  'street': '474 Chapel Dr. ',\n",
        "  'city': 'Canandaigua',\n",
        "  'state': 'NY',\n",
        "  'zip_code': '14424',\n",
        "  'total': 900.00},\n",
        " {'first_name': 'Lizzette',\n",
        "  'last_name': 'Stein',\n",
        "  'phone': None,\n",
        "  'email': 'lizzette.stein@yahoo.com',\n",
        "  'street': '19 Green Hill Lane ',\n",
        "  'city': 'Orchard Park',\n",
        "  'state': 'NY',\n",
        "  'zip_code': '14127',\n",
        "  'total': 9.00},\n",
        " {'first_name': 'Aleta',\n",
        "  'last_name': 'Shepard',\n",
        "  'phone': None,\n",
        "  'email': 'aleta.shepard@aol.com',\n",
        "  'street': '684 Howard St. ',\n",
        "  'city': 'Sugar Land',\n",
        "  'state': 'TX',\n",
        "  'zip_code': '77478',\n",
        "  'total': 999.00}]\n",
        "\n",
        "print(clienti)"
      ],
      "metadata": {
        "id": "fuwHsPoCOSaa"
      },
      "execution_count": null,
      "outputs": []
    },
    {
      "cell_type": "markdown",
      "source": [
        "1. visualizzare tutte le informazioni dei clienti che abitano in California"
      ],
      "metadata": {
        "id": "NcuT9BdAOl5Z"
      }
    },
    {
      "cell_type": "code",
      "source": [
        "for indice in clienti:\n",
        "  if indice[\"state\"] == \"CA\":\n",
        "     print(indice)"
      ],
      "metadata": {
        "id": "bIeh6kz-OrIP"
      },
      "execution_count": null,
      "outputs": []
    },
    {
      "cell_type": "markdown",
      "source": [
        "2. visualizzare le informazioni di un cliente di cui si inserisce la mail"
      ],
      "metadata": {
        "id": "rgR0DZB_OrgA"
      }
    },
    {
      "cell_type": "code",
      "source": [
        "emailInserita=input(\"inserisci l'email:\")\n",
        "for indice in clienti:\n",
        "  if emailInserita in indice[\"email\"]:\n",
        "     print(indice)"
      ],
      "metadata": {
        "id": "2-Nx0Hk7OyF8"
      },
      "execution_count": null,
      "outputs": []
    },
    {
      "cell_type": "markdown",
      "source": [
        "3. contare il numero di clienti presenti "
      ],
      "metadata": {
        "id": "raOzr_dBOydf"
      }
    },
    {
      "cell_type": "code",
      "source": [
        "print(len(clienti))"
      ],
      "metadata": {
        "id": "K1rr_Y3VO0vP"
      },
      "execution_count": null,
      "outputs": []
    },
    {
      "cell_type": "markdown",
      "source": [
        "4. visualizzare il nome del cliente che ha speso di più"
      ],
      "metadata": {
        "id": "cVOvYV-IO1Kn"
      }
    },
    {
      "cell_type": "code",
      "source": [
        "listaSpese = [clienti[indice][\"total\"] for indice in range(len(clienti))]\n",
        "for indice in clienti:\n",
        "  if max(listaSpese) == indice[\"total\"]:\n",
        "    print(indice[\"first_name\"])"
      ],
      "metadata": {
        "id": "Vb_1KfF2QWk8"
      },
      "execution_count": null,
      "outputs": []
    },
    {
      "cell_type": "markdown",
      "source": [
        "5. visualizzare i clienti che hanno speso più di 2000 $"
      ],
      "metadata": {
        "id": "hXfHHRvxQW3f"
      }
    },
    {
      "cell_type": "code",
      "source": [
        "listaSpese = [clienti[indice][\"total\"] for indice in range(len(clienti))]\n",
        "for indice in clienti:\n",
        "  if indice[\"total\"] > 2000:\n",
        "    print(indice[\"first_name\"])"
      ],
      "metadata": {
        "id": "Xn_lY9u-Qbmo"
      },
      "execution_count": null,
      "outputs": []
    },
    {
      "cell_type": "markdown",
      "source": [
        "6. visualizzare gli stati dei clienti che hanno speso più di 2000 $ senza ripetizioni"
      ],
      "metadata": {
        "id": "oL53wVJbQcLj"
      }
    },
    {
      "cell_type": "code",
      "source": [
        "noRipetizioni=[]\n",
        "listaSpese = [clienti[indice][\"total\"] for indice in range(len(clienti))]\n",
        "for indice in clienti:\n",
        "  if indice[\"total\"] > 2000:\n",
        "    noRipetizioni.append(indice[\"state\"])\n",
        "print(set(noRipetizioni))"
      ],
      "metadata": {
        "id": "eZO7ttcAQyJ-"
      },
      "execution_count": null,
      "outputs": []
    },
    {
      "cell_type": "markdown",
      "source": [
        "Prendere in considerazione la lista nomi=['maria', 'stefano', 'anna', 'carlo'] e la lista cognomi = ['rossi', 'bianchi', 'verdi', 'neri']. Scrivere il codice per creare da queste due liste una lista di dizionari aventi come chiavi nome e cognome (google it...)"
      ],
      "metadata": {
        "id": "L7d8r8-GQyn4"
      }
    },
    {
      "cell_type": "code",
      "source": [
        "nomi=['maria', 'stefano', 'anna', 'carlo']\n",
        "cognomi = ['rossi', 'bianchi', 'verdi', 'neri']"
      ],
      "metadata": {
        "id": "UnvbptOlkLwR"
      },
      "execution_count": 53,
      "outputs": []
    },
    {
      "cell_type": "code",
      "source": [
        "dizionario=[]\n",
        "for x, y in zip(nomi,cognomi):\n",
        "  dizionario.append({\"nome\":x, \"cognome\":y})\n",
        "print(dizionario)"
      ],
      "metadata": {
        "id": "zeVZ5Lq1h67Z"
      },
      "execution_count": null,
      "outputs": []
    }
  ]
}