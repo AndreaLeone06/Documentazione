{
  "nbformat": 4,
  "nbformat_minor": 0,
  "metadata": {
    "colab": {
      "provenance": [],
      "authorship_tag": "ABX9TyMXhrHVy1ctVzm3MNQ7Vc3n",
      "include_colab_link": true
    },
    "kernelspec": {
      "name": "python3",
      "display_name": "Python 3"
    },
    "language_info": {
      "name": "python"
    }
  },
  "cells": [
    {
      "cell_type": "markdown",
      "metadata": {
        "id": "view-in-github",
        "colab_type": "text"
      },
      "source": [
        "<a href=\"https://colab.research.google.com/github/AndreaLeone06/Documentazione/blob/main/esercizioLista.ipynb\" target=\"_parent\"><img src=\"https://colab.research.google.com/assets/colab-badge.svg\" alt=\"Open In Colab\"/></a>"
      ]
    },
    {
      "cell_type": "code",
      "execution_count": 19,
      "metadata": {
        "id": "8N70GuV9PfzZ"
      },
      "outputs": [],
      "source": [
        "nomi= ['Luca', 'Carlo', 'Maria', 'Angela', 'Stefano', 'Davide']\n",
        "altezza= [1.80, 1.67, 1.75, 1.68, 1.81, 1.78]\n",
        "peso= [77, 48, 81, 55, 90, 70]\n"
      ]
    },
    {
      "cell_type": "markdown",
      "source": [
        "far inserire all'utente un nome e fornire il peso e l'altezza dello studente inserito"
      ],
      "metadata": {
        "id": "4g6OqDjMSot7"
      }
    },
    {
      "cell_type": "code",
      "source": [
        "nomeStudente = input(\"inserisci il nome di uno studente\")\n",
        "print(altezza[nomi.index(nomeStudente)])\n",
        "print(peso[nomi.index(nomeStudente)])"
      ],
      "metadata": {
        "id": "mjvkAAbqSrYL"
      },
      "execution_count": null,
      "outputs": []
    },
    {
      "cell_type": "markdown",
      "source": [
        " visualizzare il nome dello studente più alto"
      ],
      "metadata": {
        "id": "-shSyeuNUrga"
      }
    },
    {
      "cell_type": "code",
      "source": [
        "altezzaMassima = max(altezza)\n",
        "posizioneAltezzaMassima= altezza.index(altezzaMassima)\n",
        "print(altezzaMassima)\n",
        "print(posizioneAltezzaMassima)\n",
        "print(nomi[posizioneAltezzaMassima])"
      ],
      "metadata": {
        "id": "KcWObHZoUtyL"
      },
      "execution_count": null,
      "outputs": []
    },
    {
      "cell_type": "markdown",
      "source": [
        "visualizzare il nome dello studente più magro"
      ],
      "metadata": {
        "id": "zPm1NLHGWXwK"
      }
    },
    {
      "cell_type": "code",
      "source": [
        "pesominimo = min(peso)\n",
        "posizionePesoMinimo= peso.index(pesominimo)\n",
        "print(pesominimo)\n",
        "print(posizionePesoMinimo)\n",
        "print(nomi[posizionePesoMinimo])"
      ],
      "metadata": {
        "id": "FeI1TBYSWW9T"
      },
      "execution_count": null,
      "outputs": []
    },
    {
      "cell_type": "markdown",
      "source": [
        "far inserire il nome di uno studente e calcolare il suo IMC"
      ],
      "metadata": {
        "id": "957vMZUSW-QD"
      }
    },
    {
      "cell_type": "code",
      "source": [
        "nomeStudente =input(\"inserisci il nome di uno studente\")\n",
        "IMC = peso[nomi.index(nomeStudente)] / altezza[nomi.index(nomeStudente)]**2\n",
        "print(IMC)"
      ],
      "metadata": {
        "id": "6KG89BgcXBAS"
      },
      "execution_count": null,
      "outputs": []
    },
    {
      "cell_type": "markdown",
      "source": [
        "calcolare il peso medio degli studenti"
      ],
      "metadata": {
        "id": "lJN6dX3mZaTa"
      }
    },
    {
      "cell_type": "code",
      "source": [
        "from statistics import mean\n",
        "print(mean(peso))"
      ],
      "metadata": {
        "id": "WPbi6z_GY-pz"
      },
      "execution_count": null,
      "outputs": []
    },
    {
      "cell_type": "markdown",
      "source": [
        "visualizzare il numero di studenti"
      ],
      "metadata": {
        "id": "7_ukbHYyZavM"
      }
    },
    {
      "cell_type": "code",
      "source": [
        "print(len(nomi))"
      ],
      "metadata": {
        "id": "hs8OJ_qwZbEy"
      },
      "execution_count": null,
      "outputs": []
    },
    {
      "cell_type": "markdown",
      "source": [
        "aggiungere lo studente Marco che pesa 76 Kg ed è alto 1.90"
      ],
      "metadata": {
        "id": "7LHGCW7PZmS6"
      }
    },
    {
      "cell_type": "code",
      "source": [
        "nomi.append('Marco')\n",
        "altezza.append(1.90)\n",
        "peso.append(76)"
      ],
      "metadata": {
        "id": "5wKqTlzWZoOy"
      },
      "execution_count": 24,
      "outputs": []
    },
    {
      "cell_type": "markdown",
      "source": [
        "eliminare le informazioni riguardanti Maria"
      ],
      "metadata": {
        "id": "8JOVLqdYaNZq"
      }
    },
    {
      "cell_type": "code",
      "source": [
        "posizioneMaria = nomi.index('Maria')\n",
        "altezza.pop(posizioneMaria)\n",
        "peso.pop(posizioneMaria)\n",
        "nomi.pop(posizioneMaria)\n",
        "print(nomi)"
      ],
      "metadata": {
        "id": "itwiToEYaOVC"
      },
      "execution_count": null,
      "outputs": []
    }
  ]
}